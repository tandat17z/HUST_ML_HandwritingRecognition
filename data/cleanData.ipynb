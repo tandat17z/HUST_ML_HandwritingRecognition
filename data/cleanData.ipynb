{
 "cells": [
  {
   "cell_type": "code",
   "execution_count": 1,
   "metadata": {},
   "outputs": [
    {
     "name": "stdout",
     "output_type": "stream",
     "text": [
      "d:\\HUST\\20232\\ML\\Project_OCR\\HandwritingRecognition\n"
     ]
    }
   ],
   "source": [
    "%cd .."
   ]
  },
  {
   "cell_type": "code",
   "execution_count": 25,
   "metadata": {},
   "outputs": [],
   "source": [
    "import os\n",
    "import zipfile\n",
    "import shutil\n",
    "\n",
    "import pandas as pd\n",
    "import numpy as np\n",
    "import seaborn as sns"
   ]
  },
  {
   "cell_type": "markdown",
   "metadata": {},
   "source": [
    "# Đọc dữ liệu từ file zip"
   ]
  },
  {
   "cell_type": "code",
   "execution_count": 5,
   "metadata": {},
   "outputs": [],
   "source": [
    "def extract_zip(zip_file, extract_to):\n",
    "    with zipfile.ZipFile(zip_file, 'r') as zip_ref:\n",
    "        zip_ref.extractall(extract_to)"
   ]
  },
  {
   "cell_type": "code",
   "execution_count": 6,
   "metadata": {},
   "outputs": [],
   "source": [
    "extract_zip('data/OCR_data0.zip', 'data/OCR_data/')"
   ]
  },
  {
   "cell_type": "markdown",
   "metadata": {},
   "source": [
    "# Xử lý img and label"
   ]
  },
  {
   "cell_type": "code",
   "execution_count": 2,
   "metadata": {},
   "outputs": [],
   "source": [
    "import os\n",
    "\n",
    "def read_file(file_path):\n",
    "    try:\n",
    "        with open(file_path, 'r', encoding='utf-8') as file:\n",
    "            content = file.read()\n",
    "            return content\n",
    "    except FileNotFoundError:\n",
    "        return f\"File {file_path} không tồn tại.\"\n",
    "\n",
    "def delete_file(file_path):\n",
    "    try:\n",
    "        os.remove(file_path)\n",
    "        return\n",
    "    except FileNotFoundError:\n",
    "        return f\"File {file_path} không tồn tại.\"\n",
    "\n",
    "def count_words(text):\n",
    "    return len(text.split())"
   ]
  },
  {
   "cell_type": "code",
   "execution_count": 11,
   "metadata": {},
   "outputs": [
    {
     "data": {
      "text/plain": [
       "False"
      ]
     },
     "execution_count": 11,
     "metadata": {},
     "output_type": "execute_result"
    }
   ],
   "source": [
    "path = '123.abc'\n",
    "path.endswith(('png', 'PNG', 'JPG', 'jpg', 'JPEG', 'jpeg'))"
   ]
  },
  {
   "cell_type": "code",
   "execution_count": 39,
   "metadata": {},
   "outputs": [],
   "source": [
    "cnt = 0\n",
    "list_len = []\n",
    "for path in os.listdir('data/OCR_data'):\n",
    "    ext = ('png', 'PNG', 'JPG', 'jpg', 'JPEG', 'jpeg')\n",
    "    if path.endswith(ext):\n",
    "        imgpath = 'data/OCR_data/' + path\n",
    "        labelpth = 'data/OCR_data/' + os.path.splitext(path)[0] + '.txt'\n",
    "\n",
    "        with open(labelpth, 'r') as f:\n",
    "            content = f.readline().rstrip('\\n')\n",
    "            char_count = len(content.strip())\n",
    "            list_len.append(char_count)\n",
    "            \n",
    "        if char_count in range(51, 96):\n",
    "            cnt += 1\n",
    "            shutil.move(imgpath, 'data/img/') # Di chuyển file \n",
    "            shutil.move(labelpth, 'data/label/') # Di chuyển file "
   ]
  },
  {
   "cell_type": "code",
   "execution_count": 41,
   "metadata": {},
   "outputs": [
    {
     "data": {
      "text/plain": [
       "6273"
      ]
     },
     "execution_count": 41,
     "metadata": {},
     "output_type": "execute_result"
    }
   ],
   "source": [
    "len(os.listdir('data/label'))"
   ]
  },
  {
   "cell_type": "code",
   "execution_count": 37,
   "metadata": {},
   "outputs": [
    {
     "data": {
      "text/plain": [
       "6273"
      ]
     },
     "execution_count": 37,
     "metadata": {},
     "output_type": "execute_result"
    }
   ],
   "source": [
    "cnt"
   ]
  },
  {
   "cell_type": "code",
   "execution_count": 29,
   "metadata": {},
   "outputs": [
    {
     "data": {
      "text/plain": [
       "<seaborn.axisgrid.FacetGrid at 0x1e8772a2690>"
      ]
     },
     "execution_count": 29,
     "metadata": {},
     "output_type": "execute_result"
    },
    {
     "data": {
      "image/png": "[encoded data removed]",
      "text/plain": [
       "<Figure size 571.125x500 with 1 Axes>"
      ]
     },
     "metadata": {},
     "output_type": "display_data"
    }
   ],
   "source": [
    "df = pd.DataFrame(list_len, columns=['len'])\n",
    "sns.displot(df)"
   ]
  },
  {
   "cell_type": "code",
   "execution_count": 35,
   "metadata": {},
   "outputs": [
    {
     "name": "stdout",
     "output_type": "stream",
     "text": [
      "50 16\n",
      "51 37\n",
      "52 33\n",
      "53 55\n",
      "54 47\n",
      "55 48\n",
      "56 60\n",
      "57 83\n",
      "58 95\n",
      "59 102\n",
      "60 105\n",
      "61 145\n",
      "62 143\n",
      "63 171\n",
      "64 181\n",
      "65 208\n",
      "66 229\n",
      "67 188\n",
      "68 240\n",
      "69 220\n",
      "70 263\n",
      "71 237\n",
      "72 254\n",
      "73 235\n",
      "74 279\n",
      "75 251\n",
      "76 223\n",
      "77 218\n",
      "78 214\n",
      "79 176\n",
      "80 172\n",
      "81 195\n",
      "82 161\n",
      "83 174\n",
      "84 119\n",
      "85 119\n",
      "86 89\n",
      "87 64\n",
      "88 83\n",
      "89 74\n",
      "90 85\n",
      "91 48\n",
      "92 41\n",
      "93 40\n",
      "94 20\n",
      "95 49\n"
     ]
    }
   ],
   "source": [
    "for i in range(50, 96):\n",
    "    print(i, df.len.value_counts()[i])"
   ]
  },
  {
   "cell_type": "code",
   "execution_count": null,
   "metadata": {},
   "outputs": [],
   "source": []
  }
 ],
 "metadata": {
  "kernelspec": {
   "display_name": "env_tandat17z",
   "language": "python",
   "name": "python3"
  },
  "language_info": {
   "codemirror_mode": {
    "name": "ipython",
    "version": 3
   },
   "file_extension": ".py",
   "mimetype": "text/x-python",
   "name": "python",
   "nbconvert_exporter": "python",
   "pygments_lexer": "ipython3",
   "version": "3.12.3"
  }
 },
 "nbformat": 4,
 "nbformat_minor": 2
}
