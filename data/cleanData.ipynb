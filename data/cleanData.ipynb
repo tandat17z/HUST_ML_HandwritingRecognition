{
 "cells": [
  {
   "cell_type": "code",
   "execution_count": 1,
   "metadata": {},
   "outputs": [
    {
     "name": "stdout",
     "output_type": "stream",
     "text": [
      "d:\\HUST\\20232\\ML\\Project_OCR\\HandwritingRecognition\n"
     ]
    }
   ],
   "source": [
    "%cd .."
   ]
  },
  {
   "cell_type": "code",
   "execution_count": 2,
   "metadata": {},
   "outputs": [],
   "source": [
    "import os\n",
    "import zipfile\n",
    "import shutil\n",
    "\n",
    "import pandas as pd\n",
    "import numpy as np\n",
    "import seaborn as sns\n",
    "from PIL import Image"
   ]
  },
  {
   "cell_type": "markdown",
   "metadata": {},
   "source": [
    "# Đọc dữ liệu từ file zip"
   ]
  },
  {
   "cell_type": "code",
   "execution_count": 9,
   "metadata": {},
   "outputs": [],
   "source": [
    "def extract_zip(zip_file, extract_to):\n",
    "    with zipfile.ZipFile(zip_file, 'r') as zip_ref:\n",
    "        zip_ref.extractall(extract_to)"
   ]
  },
  {
   "cell_type": "code",
   "execution_count": 10,
   "metadata": {},
   "outputs": [],
   "source": [
    "extract_zip('data/InkData_line_processed.zip', 'data/4')"
   ]
  },
  {
   "cell_type": "code",
   "execution_count": 11,
   "metadata": {},
   "outputs": [
    {
     "data": {
      "text/plain": [
       "14564"
      ]
     },
     "execution_count": 11,
     "metadata": {},
     "output_type": "execute_result"
    }
   ],
   "source": [
    "len(os.listdir('data/4/InkData_line_processed/'))"
   ]
  },
  {
   "cell_type": "markdown",
   "metadata": {},
   "source": [
    "# Di chuyển file"
   ]
  },
  {
   "cell_type": "code",
   "execution_count": 3,
   "metadata": {},
   "outputs": [],
   "source": [
    "root = 'data/4'\n",
    "dataPath = 'InkData_line_processed'"
   ]
  },
  {
   "cell_type": "code",
   "execution_count": 13,
   "metadata": {},
   "outputs": [],
   "source": [
    "cnt = 0\n",
    "char_count = []\n",
    "len_list = []\n",
    "size = []\n",
    "invalid_img = []\n",
    "\n",
    "for path in os.listdir(root + '/' + dataPath):\n",
    "    ext = ('png', 'PNG', 'JPG', 'jpg', 'JPEG', 'jpeg')\n",
    "    if path.endswith(ext):\n",
    "        imgpath = root + '/' + dataPath + '/' + path\n",
    "        labelpath = root + '/' + dataPath + '/' + os.path.splitext(path)[0] + '.txt'\n",
    "\n",
    "        # Đọc text\n",
    "        with open(labelpath, 'r') as f:\n",
    "            content = f.readline().rstrip('\\n').strip()\n",
    "            # if '-' in content:\n",
    "            #     print(path)\n",
    "            # char_list.update(set(content))\n",
    "            char_count.append(len(content))\n",
    "            len_list.append(len(content.split()))\n",
    "            \n",
    "        # Đọc img\n",
    "        # if len(content) in range(51, 96):\n",
    "        #     img = Image.open(old_imgpath).convert('L')\n",
    "        #     w, h = img.size\n",
    "        #     # size.append(img.size)\n",
    "        #     if w / h > 512/32:\n",
    "        #         print(old_imgpath)\n",
    "        #         invalid_img.append(old_imgpath)\n",
    "        \n",
    "        # Di chuyển file------------------------------------------\n",
    "        # if len(content) in range(51, 96):\n",
    "        #     shutil.move(imgpath, 'data/4/img') # Di chuyển file \n",
    "        #     shutil.move(labelpath, 'data/4/label') # Di chuyển file "
   ]
  },
  {
   "cell_type": "code",
   "execution_count": 14,
   "metadata": {},
   "outputs": [],
   "source": [
    "assert len(os.listdir('data/4/img/')) == len(os.listdir('data/4/label'))"
   ]
  },
  {
   "cell_type": "markdown",
   "metadata": {},
   "source": [
    "# check data"
   ]
  },
  {
   "cell_type": "markdown",
   "metadata": {},
   "source": [
    "## check size"
   ]
  },
  {
   "cell_type": "code",
   "execution_count": 19,
   "metadata": {},
   "outputs": [],
   "source": [
    "invalid_img = []\n",
    "for path in os.listdir(root + '/img'):\n",
    "    imgpath = root + '/img/' + path\n",
    "    labelpath = root + '/label/' + os.path.splitext(path)[0] + '.txt'\n",
    "\n",
    "    # Đọc text\n",
    "    # with open(labelpath, 'r') as f:\n",
    "    #     content = f.readline().rstrip('\\n').strip()\n",
    "    #     # if '-' in content:\n",
    "    #     #     print(path)\n",
    "    #     # char_list.update(set(content))\n",
    "    #     char_count.append(len(content))\n",
    "    #     len_list.append(len(content.split()))\n",
    "        \n",
    "    # Đọc img\n",
    "    img = Image.open(imgpath).convert('L')\n",
    "    w, h = img.size\n",
    "    # size.append(img.size)\n",
    "    if w / h > 512/32:\n",
    "        print(imgpath)\n",
    "        invalid_img.append(imgpath)\n",
    "    "
   ]
  },
  {
   "cell_type": "markdown",
   "metadata": {},
   "source": [
    "# Visual"
   ]
  },
  {
   "cell_type": "code",
   "execution_count": 16,
   "metadata": {},
   "outputs": [],
   "source": [
    "df_char = pd.DataFrame(char_count, columns=['char_cnt'])"
   ]
  },
  {
   "cell_type": "code",
   "execution_count": 23,
   "metadata": {},
   "outputs": [
    {
     "data": {
      "text/plain": [
       "char_cnt    6273\n",
       "dtype: int64"
      ]
     },
     "execution_count": 23,
     "metadata": {},
     "output_type": "execute_result"
    }
   ],
   "source": [
    "# df_char[(df_char > 50) & (df_char <= 95)].value_counts()\n",
    "df_char[(df_char > 50) & (df_char <= 95)].count()\n"
   ]
  },
  {
   "cell_type": "code",
   "execution_count": 12,
   "metadata": {},
   "outputs": [
    {
     "data": {
      "text/plain": [
       "<seaborn.axisgrid.FacetGrid at 0x13dc149f050>"
      ]
     },
     "execution_count": 12,
     "metadata": {},
     "output_type": "execute_result"
    },
    {
     "data": {
      "image/png": "[encoded data removed]",
      "text/plain": [
       "<Figure size 500x500 with 1 Axes>"
      ]
     },
     "metadata": {},
     "output_type": "display_data"
    }
   ],
   "source": [
    "sns.displot(char_count)"
   ]
  },
  {
   "cell_type": "code",
   "execution_count": 13,
   "metadata": {},
   "outputs": [
    {
     "data": {
      "text/plain": [
       "<seaborn.axisgrid.FacetGrid at 0x13dbfe4a7e0>"
      ]
     },
     "execution_count": 13,
     "metadata": {},
     "output_type": "execute_result"
    },
    {
     "data": {
      "image/png": "[encoded data removed]",
      "text/plain": [
       "<Figure size 500x500 with 1 Axes>"
      ]
     },
     "metadata": {},
     "output_type": "display_data"
    }
   ],
   "source": [
    "sns.displot(len_list)"
   ]
  },
  {
   "cell_type": "markdown",
   "metadata": {},
   "source": [
    "# Khảo sát độ dài"
   ]
  },
  {
   "cell_type": "code",
   "execution_count": null,
   "metadata": {},
   "outputs": [],
   "source": []
  },
  {
   "cell_type": "markdown",
   "metadata": {},
   "source": [
    "# Xử lý img and label"
   ]
  },
  {
   "cell_type": "code",
   "execution_count": 2,
   "metadata": {},
   "outputs": [],
   "source": [
    "import os\n",
    "\n",
    "def read_file(file_path):\n",
    "    try:\n",
    "        with open(file_path, 'r', encoding='utf-8') as file:\n",
    "            content = file.read()\n",
    "            return content\n",
    "    except FileNotFoundError:\n",
    "        return f\"File {file_path} không tồn tại.\"\n",
    "\n",
    "def delete_file(file_path):\n",
    "    try:\n",
    "        os.remove(file_path)\n",
    "        return\n",
    "    except FileNotFoundError:\n",
    "        return f\"File {file_path} không tồn tại.\"\n",
    "\n",
    "def count_words(text):\n",
    "    return len(text.split())"
   ]
  },
  {
   "cell_type": "code",
   "execution_count": 11,
   "metadata": {},
   "outputs": [
    {
     "data": {
      "text/plain": [
       "False"
      ]
     },
     "execution_count": 11,
     "metadata": {},
     "output_type": "execute_result"
    }
   ],
   "source": [
    "path = '123.abc'\n",
    "path.endswith(('png', 'PNG', 'JPG', 'jpg', 'JPEG', 'jpeg'))"
   ]
  },
  {
   "cell_type": "code",
   "execution_count": 11,
   "metadata": {},
   "outputs": [
    {
     "data": {
      "text/plain": [
       "{'h', 'l', 'o'}"
      ]
     },
     "execution_count": 11,
     "metadata": {},
     "output_type": "execute_result"
    }
   ],
   "source": [
    "s = \"hllo\"\n",
    "taphop = set()\n",
    "taphop.update(set(s))\n",
    "taphop"
   ]
  },
  {
   "cell_type": "code",
   "execution_count": 37,
   "metadata": {},
   "outputs": [
    {
     "data": {
      "text/plain": [
       "6273"
      ]
     },
     "execution_count": 37,
     "metadata": {},
     "output_type": "execute_result"
    }
   ],
   "source": [
    "cnt = 0\n",
    "list_len = []\n",
    "char_list = set()\n",
    "root = 'data/1'\n",
    "for path in os.listdir(root + '/img'):\n",
    "    ext = ('png', 'PNG', 'JPG', 'jpg', 'JPEG', 'jpeg')\n",
    "    if path.endswith(ext):\n",
    "        imgpath = root + '/img/' + path\n",
    "        labelpth = root + '/label/' + os.path.splitext(path)[0] + '.txt'\n",
    "\n",
    "        with open(labelpth, 'r') as f:\n",
    "            content = f.readline().rstrip('\\n').strip()\n",
    "            # if '-' in content:\n",
    "            #     print(path)\n",
    "            char_list.update(set(content))\n",
    "            char_count = len(content)\n",
    "            list_len.append(char_count)\n",
    "            \n",
    "        if char_count in range(51, 96):\n",
    "            cnt += 1\n",
    "            # shutil.move(imgpath, 'data/img/') # Di chuyển file \n",
    "            # shutil.move(labelpth, 'data/label/') # Di chuyển file \n",
    "cnt"
   ]
  },
  {
   "cell_type": "code",
   "execution_count": 38,
   "metadata": {},
   "outputs": [
    {
     "data": {
      "text/plain": [
       "' !\"%&(),-./0123456789:;?ABCDEFGHIJKLMNOPQRSTUVWXYabcdefghijklmnopqrstuvxyzÁÂÔÚÝàáâãèéêìíòóôõùúýĂăĐđĩũƠơƯưạảẤấẦầẩẫậắằẳẵặẹẻẽếềểễệỉịọỏốỒồổỗộớờỞởỡợụỦủứừửữựỳỷỹ'"
      ]
     },
     "execution_count": 38,
     "metadata": {},
     "output_type": "execute_result"
    }
   ],
   "source": [
    "l = list(char_list)\n",
    "char = ''.join(sorted(l))\n",
    "char\n"
   ]
  },
  {
   "cell_type": "code",
   "execution_count": 39,
   "metadata": {},
   "outputs": [
    {
     "data": {
      "text/plain": [
       "154"
      ]
     },
     "execution_count": 39,
     "metadata": {},
     "output_type": "execute_result"
    }
   ],
   "source": [
    "len(char)"
   ]
  },
  {
   "cell_type": "code",
   "execution_count": 40,
   "metadata": {},
   "outputs": [
    {
     "data": {
      "text/plain": [
       "154"
      ]
     },
     "execution_count": 40,
     "metadata": {},
     "output_type": "execute_result"
    }
   ],
   "source": [
    "len(' !\"%&(),-./0123456789:;?ABCDEFGHIJKLMNOPQRSTUVWXYabcdefghijklmnopqrstuvxyzÁÂÔÚÝàáâãèéêìíòóôõùúýĂăĐđĩũƠơƯưạảẤấẦầẩẫậắằẳẵặẹẻẽếềểễệỉịọỏốỒồổỗộớờỞởỡợụỦủứừửữựỳỷỹ')"
   ]
  },
  {
   "cell_type": "code",
   "execution_count": 35,
   "metadata": {},
   "outputs": [
    {
     "data": {
      "text/plain": [
       "True"
      ]
     },
     "execution_count": 35,
     "metadata": {},
     "output_type": "execute_result"
    }
   ],
   "source": [
    "char[8] == '-'"
   ]
  },
  {
   "cell_type": "code",
   "execution_count": 24,
   "metadata": {},
   "outputs": [
    {
     "name": "stdout",
     "output_type": "stream",
     "text": [
      "{'ồ', 'ở', 'é', ',', 'ơ', 'ứ', 'H', '0', '/', 'W', 'I', 'v', 'j', 'z', '3', 'N', 'ô', '2', 'l', '\"', 'F', 'B', 'đ', 'S', 'ổ', 'ụ', 'ỷ', 'ậ', '1', 'R', 'ử', ':', 'ỹ', 'U', 'ế', 'Ồ', 'à', 'ệ', 'G', 'c', 'ấ', 'f', 'ê', 'P', 'ớ', 'Ấ', '8', 'J', 'L', '!', 'Ă', 'h', 'ù', 'ì', 'ờ', 'ặ', '6', 'Â', 'Đ', '.', 'Ở', 'ỳ', 'ẳ', 'ữ', 'X', 'A', 'ề', '9', 'í', 'Ơ', 'ợ', 'Ô', 'd', 'r', 'ú', 'y', '4', 'ả', 'õ', 'C', '?', 'ỡ', 'ằ', 'ĩ', 'E', 'ẩ', 'q', 'ò', 'á', 'ã', 'D', 'ỗ', 'e', 'ỉ', 'ũ', 's', 'Q', 'ộ', 'ị', 'Ý', 'ễ', ';', 'ư', 'ỏ', 'm', 'ẽ', ')', 'ý', 'ủ', 'K', 'ẫ', 'k', 'M', 'ể', 'ẻ', 'Ủ', 'u', '7', 'ố', '&', '5', 'Ú', 'x', 'Ầ', 'ă', '-', 'ẹ', 'ọ', 'Y', '%', 'Á', 't', '(', 'è', 'â', 'b', 'V', 'ự', 'ừ', 'i', 'a', 'ó', 'ầ', 'o', 'ạ', 'g', 'p', 'O', 'Ư', 'ắ', 'T', 'n', ' ', 'ẵ'}\n"
     ]
    },
    {
     "data": {
      "text/plain": [
       "154"
      ]
     },
     "execution_count": 24,
     "metadata": {},
     "output_type": "execute_result"
    }
   ],
   "source": [
    "print(char_list)\n",
    "char_list.__len__()"
   ]
  },
  {
   "cell_type": "code",
   "execution_count": 5,
   "metadata": {},
   "outputs": [
    {
     "data": {
      "text/plain": [
       "<seaborn.axisgrid.FacetGrid at 0x21b4e2fe1e0>"
      ]
     },
     "execution_count": 5,
     "metadata": {},
     "output_type": "execute_result"
    },
    {
     "data": {
      "image/png": "[encoded data removed]",
      "text/plain": [
       "<Figure size 500x500 with 1 Axes>"
      ]
     },
     "metadata": {},
     "output_type": "display_data"
    }
   ],
   "source": [
    "sns.displot(list_len)"
   ]
  },
  {
   "cell_type": "code",
   "execution_count": 41,
   "metadata": {},
   "outputs": [
    {
     "data": {
      "text/plain": [
       "6273"
      ]
     },
     "execution_count": 41,
     "metadata": {},
     "output_type": "execute_result"
    }
   ],
   "source": [
    "len(os.listdir('data/label'))"
   ]
  },
  {
   "cell_type": "code",
   "execution_count": 37,
   "metadata": {},
   "outputs": [
    {
     "data": {
      "text/plain": [
       "6273"
      ]
     },
     "execution_count": 37,
     "metadata": {},
     "output_type": "execute_result"
    }
   ],
   "source": [
    "cnt"
   ]
  },
  {
   "cell_type": "code",
   "execution_count": 29,
   "metadata": {},
   "outputs": [
    {
     "data": {
      "text/plain": [
       "<seaborn.axisgrid.FacetGrid at 0x1e8772a2690>"
      ]
     },
     "execution_count": 29,
     "metadata": {},
     "output_type": "execute_result"
    },
    {
     "data": {
      "image/png": "[encoded data removed]",
      "text/plain": [
       "<Figure size 571.125x500 with 1 Axes>"
      ]
     },
     "metadata": {},
     "output_type": "display_data"
    }
   ],
   "source": [
    "df = pd.DataFrame(list_len, columns=['len'])\n",
    "sns.displot(df)"
   ]
  },
  {
   "cell_type": "code",
   "execution_count": 35,
   "metadata": {},
   "outputs": [
    {
     "name": "stdout",
     "output_type": "stream",
     "text": [
      "50 16\n",
      "51 37\n",
      "52 33\n",
      "53 55\n",
      "54 47\n",
      "55 48\n",
      "56 60\n",
      "57 83\n",
      "58 95\n",
      "59 102\n",
      "60 105\n",
      "61 145\n",
      "62 143\n",
      "63 171\n",
      "64 181\n",
      "65 208\n",
      "66 229\n",
      "67 188\n",
      "68 240\n",
      "69 220\n",
      "70 263\n",
      "71 237\n",
      "72 254\n",
      "73 235\n",
      "74 279\n",
      "75 251\n",
      "76 223\n",
      "77 218\n",
      "78 214\n",
      "79 176\n",
      "80 172\n",
      "81 195\n",
      "82 161\n",
      "83 174\n",
      "84 119\n",
      "85 119\n",
      "86 89\n",
      "87 64\n",
      "88 83\n",
      "89 74\n",
      "90 85\n",
      "91 48\n",
      "92 41\n",
      "93 40\n",
      "94 20\n",
      "95 49\n"
     ]
    }
   ],
   "source": [
    "for i in range(50, 96):\n",
    "    print(i, df.len.value_counts()[i])"
   ]
  },
  {
   "cell_type": "code",
   "execution_count": null,
   "metadata": {},
   "outputs": [],
   "source": []
  }
 ],
 "metadata": {
  "kernelspec": {
   "display_name": "env_tandat17z",
   "language": "python",
   "name": "python3"
  },
  "language_info": {
   "codemirror_mode": {
    "name": "ipython",
    "version": 3
   },
   "file_extension": ".py",
   "mimetype": "text/x-python",
   "name": "python",
   "nbconvert_exporter": "python",
   "pygments_lexer": "ipython3",
   "version": "3.12.3"
  }
 },
 "nbformat": 4,
 "nbformat_minor": 2
}
