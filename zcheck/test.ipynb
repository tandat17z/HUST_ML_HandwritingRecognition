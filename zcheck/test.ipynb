{
 "cells": [
  {
   "cell_type": "code",
   "execution_count": 2,
   "metadata": {},
   "outputs": [],
   "source": [
    "import os\n",
    "import argparse\n",
    "import torch\n",
    "import random\n",
    "import numpy as np\n",
    "from tqdm import tqdm\n",
    "from torch.utils.data import random_split\n",
    "\n",
    "from model.crnn import CRNN\n",
    "from dataset import DatasetImg\n",
    "from utils.utils import *\n",
    "from trainer import *"
   ]
  },
  {
   "cell_type": "code",
   "execution_count": 3,
   "metadata": {},
   "outputs": [],
   "source": [
    "pretrained = 'pretrain/model_50.pth.tar'"
   ]
  },
  {
   "cell_type": "code",
   "execution_count": 4,
   "metadata": {},
   "outputs": [
    {
     "name": "stdout",
     "output_type": "stream",
     "text": [
      "---------------------------------------------------\n",
      "Using cpu device\n",
      "---------------------------------------------------\n"
     ]
    }
   ],
   "source": [
    "device = ( \"cuda\" if torch.cuda.is_available() else \"cpu\")\n",
    "print(\"---------------------------------------------------\")\n",
    "print(f\"Using {device} device\")\n",
    "print(\"---------------------------------------------------\")\n",
    "\n",
    "dataset = DatasetImg('data/img', 'data/label', 512, 32)\n",
    "\n",
    "with open(os.path.join('data/char.txt'), 'r', encoding='utf-8') as f:\n",
    "    alphabet = f.read().rstrip()\n",
    "# print(alphabet)\n",
    "converter = strLabelConverter(alphabet, ignore_case=True)\n",
    "\n",
    "# --------------------- Create Model ---------------------------------\n",
    "model = CRNN(converter.numClass, 100, 0.1).to(device)\n",
    "# print(f\"Model structure: {model}\\n\\n\")\n",
    "# for name, param in model.named_parameters():\n",
    "#     print(f\"Layer: {name} | Size: {param.size()} | Values : {param[:2]} \\n\")\n",
    "\n",
    "criterion = torch.nn.CTCLoss().to(device)\n",
    "optimizer = torch.optim.Adam(model.parameters(), lr=0.001)\n",
    "\n",
    "epoch = 0\n",
    "if pretrained:\n",
    "    checkpoint_path = pretrained\n",
    "    checkpoint = torch.load(checkpoint_path, map_location=torch.device(device))\n",
    "    model.load_state_dict(checkpoint['model_state_dict'])\n",
    "    optimizer.load_state_dict(checkpoint['optimizer_state_dict'])\n",
    "    epoch = checkpoint['epoch']"
   ]
  },
  {
   "cell_type": "code",
   "execution_count": null,
   "metadata": {},
   "outputs": [],
   "source": [
    "from tester import Tester\n",
    "\n",
    "tester = Tester()"
   ]
  },
  {
   "cell_type": "code",
   "execution_count": 8,
   "metadata": {},
   "outputs": [],
   "source": [
    "train_dataloader = torch.utils.data.DataLoader(\n",
    "                    dataset,\n",
    "                    batch_size=1,\n",
    "                    shuffle=True)"
   ]
  },
  {
   "cell_type": "code",
   "execution_count": 9,
   "metadata": {},
   "outputs": [],
   "source": [
    "imgs, labels = next(iter(train_dataloader))"
   ]
  },
  {
   "cell_type": "code",
   "execution_count": 37,
   "metadata": {},
   "outputs": [
    {
     "name": "stdout",
     "output_type": "stream",
     "text": [
      "Tester.eval...\n",
      "==============================\n",
      "raw: ccuóócc  sììnng  ssú   chhã  ccho  bâân  cqq  nnhăăngg  nggáõii  {âât  {{áúúcc tthffnhh crrng  thheeo  mótt  ccgcch ggiããnn ddèè\n",
      "pred_text: cuóc sìng sú chã cho bân cq nhăng ngáõi {ât {áúc thfnh crng theo mót cgch giãn dè\n",
      "gt: ('Cuộc sống sẽ chỉ cho bạn có những người đạt được thành công theo một cách giản dị',)\n"
     ]
    }
   ],
   "source": [
    "from utils.utils import *\n",
    "from tqdm import tqdm\n",
    "print(\"Tester.eval...\")\n",
    "imgs, labels = next(iter(train_dataloader))\n",
    "model.eval()\n",
    "with torch.no_grad():\n",
    "    avg_loss = 0\n",
    "    avg_levenshtein_loss = 0\n",
    "\n",
    "    imgs = imgs.to(device)\n",
    "\n",
    "    targets, target_lenghts = converter.encode(labels)\n",
    "    targets = targets.to('cpu')\n",
    "    target_lenghts = target_lenghts.to('cpu')\n",
    "\n",
    "    preds = model(imgs)\n",
    "    \n",
    "    b, l, c = preds.shape\n",
    "    preds_ = preds.permute(1, 0, 2).to('cpu')\n",
    "    preds_lengths = torch.full(size=(b,), fill_value=l, dtype=torch.long).to('cpu')\n",
    "\n",
    "    loss = criterion(preds_.log_softmax(2), targets, preds_lengths, target_lenghts) # ctc_loss chỉ dùng với cpu, dùng với gpu phức tạp hơn thì phải\n",
    "\n",
    "    avg_loss += loss.detach().item()\n",
    "    _, enc_preds = preds.max(2)\n",
    "    sim_preds = converter.decode(enc_preds.view(-1), preds_lengths, raw = False)\n",
    "    # avg_levenshtein_loss += Levenshtein_loss(sim_preds, labels)\n",
    "      \n",
    "    raw_preds = converter.decode(enc_preds.view(-1), preds_lengths, raw = True)\n",
    "    \n",
    "    print('='*30)\n",
    "    print(f'raw: {raw_preds}')\n",
    "    print(f'pred_text: {sim_preds}', )\n",
    "    print(f'gt: {labels}')"
   ]
  },
  {
   "cell_type": "code",
   "execution_count": null,
   "metadata": {},
   "outputs": [],
   "source": []
  },
  {
   "cell_type": "code",
   "execution_count": null,
   "metadata": {},
   "outputs": [],
   "source": []
  },
  {
   "cell_type": "code",
   "execution_count": null,
   "metadata": {},
   "outputs": [],
   "source": []
  }
 ],
 "metadata": {
  "kernelspec": {
   "display_name": "env_tandat17z",
   "language": "python",
   "name": "python3"
  },
  "language_info": {
   "codemirror_mode": {
    "name": "ipython",
    "version": 3
   },
   "file_extension": ".py",
   "mimetype": "text/x-python",
   "name": "python",
   "nbconvert_exporter": "python",
   "pygments_lexer": "ipython3",
   "version": "3.12.3"
  }
 },
 "nbformat": 4,
 "nbformat_minor": 2
}
