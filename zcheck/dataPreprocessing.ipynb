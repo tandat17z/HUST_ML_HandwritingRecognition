{
 "cells": [
  {
   "cell_type": "code",
   "execution_count": 2,
   "metadata": {},
   "outputs": [
    {
     "name": "stdout",
     "output_type": "stream",
     "text": [
      "d:\\HUST\\20232\\ML\\Project_OCR\\HandwritingRecognition\n"
     ]
    }
   ],
   "source": [
    "%cd .."
   ]
  },
  {
   "cell_type": "code",
   "execution_count": 3,
   "metadata": {},
   "outputs": [
    {
     "name": "stderr",
     "output_type": "stream",
     "text": [
      "c:\\Users\\tandat17z\\anaconda3\\envs\\env_tandat17z\\Lib\\site-packages\\tqdm\\auto.py:21: TqdmWarning: IProgress not found. Please update jupyter and ipywidgets. See https://ipywidgets.readthedocs.io/en/stable/user_install.html\n",
      "  from .autonotebook import tqdm as notebook_tqdm\n"
     ]
    }
   ],
   "source": [
    "import os\n",
    "import zipfile\n",
    "import shutil\n",
    "\n",
    "import pandas as pd\n",
    "import numpy as np\n",
    "import seaborn as sns\n",
    "from PIL import Image\n",
    "\n",
    "from tools import utils"
   ]
  },
  {
   "cell_type": "markdown",
   "metadata": {},
   "source": [
    "# Check số lượng file"
   ]
  },
  {
   "cell_type": "code",
   "execution_count": 6,
   "metadata": {},
   "outputs": [
    {
     "data": {
      "text/plain": [
       "(667, 667)"
      ]
     },
     "execution_count": 6,
     "metadata": {},
     "output_type": "execute_result"
    }
   ],
   "source": [
    "root = 'data/raw/data_v3'\n",
    "len(os.listdir(root + '/img')), len(os.listdir(root + '/label'))"
   ]
  },
  {
   "cell_type": "markdown",
   "metadata": {},
   "source": [
    "# Split data"
   ]
  },
  {
   "cell_type": "code",
   "execution_count": 46,
   "metadata": {},
   "outputs": [],
   "source": [
    "os.makedirs('data/train/img')\n",
    "os.makedirs('data/train/label')\n",
    "\n",
    "os.makedirs('data/test/img')\n",
    "os.makedirs('data/test/label')"
   ]
  },
  {
   "cell_type": "code",
   "execution_count": 67,
   "metadata": {},
   "outputs": [],
   "source": [
    "root = 'data/raw/data_v3'"
   ]
  },
  {
   "cell_type": "code",
   "execution_count": 68,
   "metadata": {},
   "outputs": [],
   "source": [
    "cnt = 0\n",
    "char_count = []\n",
    "list_str = {}\n",
    "for path in os.listdir(root + '/img'):\n",
    "    ext = ('png', 'PNG', 'JPG', 'jpg', 'JPEG', 'jpeg')\n",
    "    if path.endswith(ext):\n",
    "        imgpath = root + '/img/' + path\n",
    "        labelpath = root + '/label/' +  os.path.splitext(path)[0] + '.txt'\n",
    "        \n",
    "        # Đọc text\n",
    "        with open(labelpath, 'r') as f:\n",
    "            content = f.readline().rstrip('\\n').strip()\n",
    "        \n",
    "        char_count.append(len(content))\n",
    "        if len(content) in list_str.keys():\n",
    "            list_str[len(content)].append(path)\n",
    "        else:\n",
    "            list_str[len(content)] = [path]"
   ]
  },
  {
   "cell_type": "code",
   "execution_count": 69,
   "metadata": {},
   "outputs": [
    {
     "data": {
      "text/plain": [
       "<seaborn.axisgrid.FacetGrid at 0x1da0078ede0>"
      ]
     },
     "execution_count": 69,
     "metadata": {},
     "output_type": "execute_result"
    },
    {
     "data": {
      "image/png": "[encoded data removed]",
      "text/plain": [
       "<Figure size 500x500 with 1 Axes>"
      ]
     },
     "metadata": {},
     "output_type": "display_data"
    }
   ],
   "source": [
    "sns.displot(char_count)"
   ]
  },
  {
   "cell_type": "code",
   "execution_count": 70,
   "metadata": {},
   "outputs": [
    {
     "name": "stdout",
     "output_type": "stream",
     "text": [
      "data/raw/data_v3\n"
     ]
    }
   ],
   "source": [
    "from sklearn.model_selection import train_test_split\n",
    "\n",
    "print(root)\n",
    "train_data = []\n",
    "test_data = []\n",
    "train_data, test_data = train_test_split(os.listdir(root + '/img'), test_size = 0.2, random_state=42)"
   ]
  },
  {
   "cell_type": "code",
   "execution_count": 71,
   "metadata": {},
   "outputs": [
    {
     "data": {
      "text/plain": [
       "(533, 134)"
      ]
     },
     "execution_count": 71,
     "metadata": {},
     "output_type": "execute_result"
    }
   ],
   "source": [
    "len(train_data), len(test_data)"
   ]
  },
  {
   "cell_type": "code",
   "execution_count": 72,
   "metadata": {},
   "outputs": [],
   "source": [
    "path_train = 'data/train'\n",
    "for path in train_data:\n",
    "    if path not in os.listdir(path_train + '/img'):\n",
    "        imgpath = root + '/img/' + path\n",
    "        labelpath = root + '/label/' + os.path.splitext(path)[0] + '.txt'\n",
    "\n",
    "        shutil.copy(imgpath, path_train + '/img') # Di chuyển file \n",
    "        shutil.copy(labelpath, path_train + '/label') # Di chuyển file "
   ]
  },
  {
   "cell_type": "code",
   "execution_count": 73,
   "metadata": {},
   "outputs": [],
   "source": [
    "path_test = 'data/test'\n",
    "for path in test_data:\n",
    "    if path not in os.listdir(path_test + '/img'):\n",
    "        imgpath = root + '/img/' + path\n",
    "        labelpath = root + '/label/' + os.path.splitext(path)[0] + '.txt'\n",
    "\n",
    "        shutil.copy(imgpath, path_test + '/img') # Di chuyển file \n",
    "        shutil.copy(labelpath, path_test + '/label') # Di chuyển file "
   ]
  },
  {
   "cell_type": "code",
   "execution_count": 74,
   "metadata": {},
   "outputs": [],
   "source": [
    "for path in os.listdir('data/train/img'):\n",
    "    if os.path.splitext(path)[0] + '.txt' not in os.listdir('data/train/label'):\n",
    "        print(path)"
   ]
  },
  {
   "cell_type": "code",
   "execution_count": 4,
   "metadata": {},
   "outputs": [
    {
     "data": {
      "text/plain": [
       "(1600, 1600)"
      ]
     },
     "execution_count": 4,
     "metadata": {},
     "output_type": "execute_result"
    }
   ],
   "source": [
    "len(os.listdir('data/train/img')), len(os.listdir('data/train/label'))"
   ]
  },
  {
   "cell_type": "code",
   "execution_count": 5,
   "metadata": {},
   "outputs": [
    {
     "data": {
      "text/plain": [
       "(399, 399)"
      ]
     },
     "execution_count": 5,
     "metadata": {},
     "output_type": "execute_result"
    }
   ],
   "source": [
    "len(os.listdir('data/test/img')), len(os.listdir('data/test/label'))"
   ]
  },
  {
   "cell_type": "markdown",
   "metadata": {},
   "source": [
    "# Lấy tất cả các ký tự"
   ]
  },
  {
   "cell_type": "code",
   "execution_count": 101,
   "metadata": {},
   "outputs": [],
   "source": [
    "list_char = set()"
   ]
  },
  {
   "cell_type": "code",
   "execution_count": 102,
   "metadata": {},
   "outputs": [
    {
     "data": {
      "text/plain": [
       "1601"
      ]
     },
     "execution_count": 102,
     "metadata": {},
     "output_type": "execute_result"
    }
   ],
   "source": [
    "len(os.listdir('data/train/img'))"
   ]
  },
  {
   "cell_type": "code",
   "execution_count": 106,
   "metadata": {},
   "outputs": [],
   "source": [
    "for path in os.listdir('data/test/img'):\n",
    "    with open('data/test/label/' + os.path.splitext(path)[0] + '.txt', 'r') as f:\n",
    "        content = f.readline().rstrip('\\n').strip()\n",
    "        if '#' in content: print(path)\n",
    "    list_char.update(content)"
   ]
  },
  {
   "cell_type": "code",
   "execution_count": 107,
   "metadata": {},
   "outputs": [
    {
     "name": "stdout",
     "output_type": "stream",
     "text": [
      " !\"&(),-./0123456789:?ABCDEFGHIJKLMNOPQRSTUVXYabcdeghiklmnopqrstuvwxyzÀÁÂÔàáâãèéêìíòóôõùúýăĐđĩũơưạẢảẤấầẩẫậắằẳẵặẹẻẽếỀềỂểễỆệỉịọỏốồỔổỗộớờởỡợụỦủỨứừửữựỳỵỷỹ\n"
     ]
    },
    {
     "data": {
      "text/plain": [
       "' !\"&(),-./0123456789:?ABCDEFGHIJKLMNOPQRSTUVXYabcdeghiklmnopqrstuvwxyzÀÁÂÔàáâãèéêìíòóôõùúýăĐđĩũơưạẢảẤấầẩẫậắằẳẵặẹẻẽếỀềỂểễỆệỉịọỏốồỔổỗộớờởỡợụỦủỨứừửữựỳỵỷỹ'"
      ]
     },
     "execution_count": 107,
     "metadata": {},
     "output_type": "execute_result"
    }
   ],
   "source": [
    "l = list(list_char)\n",
    "l.sort()\n",
    "char_v3 = ''.join(l)\n",
    "print(char_v3)\n",
    "char_v3"
   ]
  },
  {
   "cell_type": "code",
   "execution_count": 108,
   "metadata": {},
   "outputs": [
    {
     "data": {
      "text/plain": [
       "150"
      ]
     },
     "execution_count": 108,
     "metadata": {},
     "output_type": "execute_result"
    }
   ],
   "source": [
    "len(char_v3)"
   ]
  },
  {
   "cell_type": "code",
   "execution_count": 109,
   "metadata": {},
   "outputs": [
    {
     "data": {
      "text/plain": [
       "150"
      ]
     },
     "execution_count": 109,
     "metadata": {},
     "output_type": "execute_result"
    }
   ],
   "source": [
    "len(' !\"&(),-./0123456789:?ABCDEFGHIJKLMNOPQRSTUVXYabcdeghiklmnopqrstuvwxyzÀÁÂÔàáâãèéêìíòóôõùúýăĐđĩũơưạẢảẤấầẩẫậắằẳẵặẹẻẽếỀềỂểễỆệỉịọỏốồỔổỗộớờởỡợụỦủỨứừửữựỳỵỷỹ')"
   ]
  },
  {
   "cell_type": "markdown",
   "metadata": {},
   "source": [
    "# Khảo sát"
   ]
  },
  {
   "cell_type": "code",
   "execution_count": 9,
   "metadata": {},
   "outputs": [],
   "source": [
    "root = 'data/train'\n",
    "count_char = []\n",
    "for path in os.listdir(root + '/img/'):\n",
    "    imgpath = root +  '/img/' + path\n",
    "    labelpath = root + '/label/' +  os.path.splitext(path)[0] + '.txt'\n",
    "\n",
    "    with open(labelpath, 'r') as f:\n",
    "        content = f.readline().rstrip('\\n').strip()\n",
    "        count_char.append(len(content))\n"
   ]
  },
  {
   "cell_type": "code",
   "execution_count": 10,
   "metadata": {},
   "outputs": [
    {
     "data": {
      "text/plain": [
       "<seaborn.axisgrid.FacetGrid at 0x2790af472f0>"
      ]
     },
     "execution_count": 10,
     "metadata": {},
     "output_type": "execute_result"
    },
    {
     "data": {
      "image/png": "[encoded data removed]",
      "text/plain": [
       "<Figure size 500x500 with 1 Axes>"
      ]
     },
     "metadata": {},
     "output_type": "display_data"
    }
   ],
   "source": [
    "sns.displot(count_char)"
   ]
  },
  {
   "cell_type": "code",
   "execution_count": null,
   "metadata": {},
   "outputs": [],
   "source": []
  }
 ],
 "metadata": {
  "kernelspec": {
   "display_name": "env_tandat17z",
   "language": "python",
   "name": "python3"
  },
  "language_info": {
   "codemirror_mode": {
    "name": "ipython",
    "version": 3
   },
   "file_extension": ".py",
   "mimetype": "text/x-python",
   "name": "python",
   "nbconvert_exporter": "python",
   "pygments_lexer": "ipython3",
   "version": "3.12.3"
  }
 },
 "nbformat": 4,
 "nbformat_minor": 2
}
