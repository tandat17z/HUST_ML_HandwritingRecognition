{
 "cells": [
  {
   "cell_type": "code",
   "execution_count": 2,
   "metadata": {},
   "outputs": [
    {
     "name": "stdout",
     "output_type": "stream",
     "text": [
      "d:\\HUST\\20232\\ML\\Project_OCR\\HandwritingRecognition\n"
     ]
    }
   ],
   "source": [
    "%cd .."
   ]
  },
  {
   "cell_type": "code",
   "execution_count": 6,
   "metadata": {},
   "outputs": [],
   "source": [
    "import os\n",
    "import torch\n",
    "from utils.StrLabelConverter import StrLabelConverter"
   ]
  },
  {
   "cell_type": "code",
   "execution_count": 15,
   "metadata": {},
   "outputs": [],
   "source": [
    "alphabet = open(os.path.join('data/mychar.txt')).read()\n",
    "convert = StrLabelConverter(alphabet)"
   ]
  },
  {
   "cell_type": "code",
   "execution_count": 16,
   "metadata": {},
   "outputs": [
    {
     "data": {
      "text/plain": [
       "158"
      ]
     },
     "execution_count": 16,
     "metadata": {},
     "output_type": "execute_result"
    }
   ],
   "source": [
    "len(alphabet)"
   ]
  },
  {
   "cell_type": "code",
   "execution_count": 18,
   "metadata": {},
   "outputs": [
    {
     "data": {
      "text/plain": [
       "159"
      ]
     },
     "execution_count": 18,
     "metadata": {},
     "output_type": "execute_result"
    }
   ],
   "source": [
    "convert.numClass"
   ]
  },
  {
   "cell_type": "code",
   "execution_count": 10,
   "metadata": {},
   "outputs": [
    {
     "data": {
      "text/plain": [
       "(tensor([13, 14, 15, 16, 17, 12, 13, 14, 15, 16, 17], dtype=torch.int32),\n",
       " tensor([5, 6], dtype=torch.int32))"
      ]
     },
     "execution_count": 10,
     "metadata": {},
     "output_type": "execute_result"
    }
   ],
   "source": [
    "enc = convert.encode(['12345', '012345'])\n",
    "enc"
   ]
  },
  {
   "cell_type": "code",
   "execution_count": 12,
   "metadata": {},
   "outputs": [
    {
     "data": {
      "text/plain": [
       "['12345', '012345']"
      ]
     },
     "execution_count": 12,
     "metadata": {},
     "output_type": "execute_result"
    },
    {
     "ename": "",
     "evalue": "",
     "output_type": "error",
     "traceback": [
      "\u001b[1;31mThe Kernel crashed while executing code in the current cell or a previous cell. \n",
      "\u001b[1;31mPlease review the code in the cell(s) to identify a possible cause of the failure. \n",
      "\u001b[1;31mClick <a href='https://aka.ms/vscodeJupyterKernelCrash'>here</a> for more info. \n",
      "\u001b[1;31mView Jupyter <a href='command:jupyter.viewOutput'>log</a> for further details."
     ]
    }
   ],
   "source": [
    "convert.decode(enc[0], enc[1])"
   ]
  },
  {
   "cell_type": "code",
   "execution_count": 4,
   "metadata": {},
   "outputs": [],
   "source": [
    "from dataset import *"
   ]
  },
  {
   "cell_type": "code",
   "execution_count": 5,
   "metadata": {},
   "outputs": [],
   "source": [
    "dataset = DatasetImg('data/img', 'data/label', 512, 32)"
   ]
  },
  {
   "cell_type": "code",
   "execution_count": 6,
   "metadata": {},
   "outputs": [],
   "source": [
    "dataloader = torch.utils.data.DataLoader(\n",
    "            dataset,\n",
    "            batch_size=64,\n",
    "            shuffle=True)"
   ]
  },
  {
   "cell_type": "code",
   "execution_count": 7,
   "metadata": {},
   "outputs": [],
   "source": [
    "img, label = next(iter(dataloader))"
   ]
  },
  {
   "cell_type": "code",
   "execution_count": 22,
   "metadata": {},
   "outputs": [
    {
     "data": {
      "text/plain": [
       "145"
      ]
     },
     "execution_count": 22,
     "metadata": {},
     "output_type": "execute_result"
    }
   ],
   "source": [
    "alphabet = open(os.path.join('data/char.txt')).read().rstrip()\n",
    "\n",
    "converter = strLabelConverter(alphabet, ignore_case=True)\n",
    "numClass = converter.numClass\n",
    "numClass\n",
    "\n"
   ]
  },
  {
   "cell_type": "code",
   "execution_count": 20,
   "metadata": {},
   "outputs": [
    {
     "data": {
      "text/plain": [
       "(tensor([45, 28,  1,  ..., 41, 47, 11], dtype=torch.int32),\n",
       " tensor([91, 76, 94, 78, 78, 88, 64, 60, 20, 79, 33, 62, 68, 59, 95,  9, 70, 82,\n",
       "         68, 54, 41, 48, 28, 92, 53, 90, 71, 42, 71, 73, 70, 53, 73, 63, 68, 74,\n",
       "         78, 62, 54, 81, 81, 74, 77, 87, 72, 58, 26, 80, 41, 69, 68, 78, 81, 65,\n",
       "         69, 80, 82, 72, 70, 89, 70, 84, 68, 69], dtype=torch.int32))"
      ]
     },
     "execution_count": 20,
     "metadata": {},
     "output_type": "execute_result"
    }
   ],
   "source": [
    "converter.encode(label)"
   ]
  },
  {
   "cell_type": "code",
   "execution_count": 27,
   "metadata": {},
   "outputs": [
    {
     "data": {
      "text/plain": [
       "tensor(9.1000)"
      ]
     },
     "execution_count": 27,
     "metadata": {},
     "output_type": "execute_result"
    }
   ],
   "source": [
    "input = torch.rand(145, 64, 128)\n",
    "input_lengths = torch.full(size=(64,), fill_value=128, dtype=torch.long)\n",
    "target, target_lengths = converter.encode(label)\n",
    "\n",
    "criterion = torch.nn.CTCLoss()\n",
    "loss = criterion(input.log_softmax(2), target, input_lengths, target_lengths)\n",
    "loss"
   ]
  },
  {
   "cell_type": "code",
   "execution_count": 28,
   "metadata": {},
   "outputs": [
    {
     "data": {
      "text/plain": [
       "tensor([[[-5.2475, -4.9321, -4.9033,  ..., -5.0675, -5.3034, -4.9360],\n",
       "         [-4.6650, -4.6435, -4.8410,  ..., -4.8973, -4.5423, -5.0474],\n",
       "         [-4.5012, -4.5204, -5.0546,  ..., -5.1592, -4.7797, -5.1051],\n",
       "         ...,\n",
       "         [-4.5140, -5.3827, -4.7316,  ..., -5.3433, -4.4627, -5.3066],\n",
       "         [-5.0414, -4.6611, -5.1869,  ..., -5.1915, -4.6133, -4.5173],\n",
       "         [-4.7702, -4.9313, -5.0115,  ..., -4.8028, -5.1198, -4.5164]],\n",
       "\n",
       "        [[-4.7842, -4.7029, -4.8137,  ..., -4.4406, -4.4129, -5.3209],\n",
       "         [-5.0668, -4.4643, -4.8460,  ..., -5.0854, -5.4086, -4.8029],\n",
       "         [-5.3918, -4.6643, -4.6111,  ..., -4.8371, -4.6395, -4.4314],\n",
       "         ...,\n",
       "         [-4.6398, -4.9631, -4.7801,  ..., -5.3325, -5.1018, -4.8854],\n",
       "         [-5.1790, -4.8521, -4.4995,  ..., -5.3118, -5.3429, -4.4443],\n",
       "         [-5.2877, -4.5953, -4.6646,  ..., -5.0649, -4.7818, -5.3007]],\n",
       "\n",
       "        [[-4.8452, -5.0485, -5.1594,  ..., -4.7784, -4.4441, -4.6611],\n",
       "         [-4.6180, -5.2239, -4.6367,  ..., -4.5715, -5.3175, -4.9787],\n",
       "         [-4.7306, -4.8561, -4.5082,  ..., -4.9125, -4.3446, -4.8143],\n",
       "         ...,\n",
       "         [-5.1576, -5.2690, -5.3077,  ..., -4.9984, -4.5164, -4.8870],\n",
       "         [-5.1505, -5.1712, -5.3878,  ..., -4.7463, -4.7864, -4.9695],\n",
       "         [-4.5515, -4.7586, -5.2223,  ..., -5.0784, -4.7284, -4.7343]],\n",
       "\n",
       "        ...,\n",
       "\n",
       "        [[-5.0389, -4.9828, -4.9095,  ..., -4.9669, -5.1683, -4.8706],\n",
       "         [-5.1173, -4.7458, -4.7807,  ..., -5.0744, -4.9908, -4.5370],\n",
       "         [-5.2798, -5.0682, -4.8940,  ..., -4.8619, -4.6550, -4.4255],\n",
       "         ...,\n",
       "         [-5.3489, -5.2773, -5.2767,  ..., -4.5364, -4.9710, -4.4622],\n",
       "         [-4.5977, -4.4156, -5.1694,  ..., -4.4739, -4.8792, -4.5328],\n",
       "         [-4.7952, -5.3747, -5.1789,  ..., -4.8473, -4.7960, -4.3935]],\n",
       "\n",
       "        [[-5.2842, -4.6714, -5.0392,  ..., -5.2000, -4.9489, -4.7765],\n",
       "         [-5.0988, -4.6376, -4.5333,  ..., -4.4245, -4.9136, -4.8588],\n",
       "         [-4.4799, -4.4267, -4.4755,  ..., -4.3999, -4.9935, -4.7150],\n",
       "         ...,\n",
       "         [-5.2502, -4.4589, -4.4533,  ..., -4.8522, -5.4130, -5.2379],\n",
       "         [-4.4806, -5.1975, -4.9714,  ..., -4.9655, -4.4144, -4.8851],\n",
       "         [-5.1704, -5.2901, -5.3331,  ..., -4.8413, -5.3002, -4.5359]],\n",
       "\n",
       "        [[-4.9046, -4.6231, -4.7413,  ..., -4.7335, -4.3943, -5.1888],\n",
       "         [-4.7958, -5.2707, -4.8409,  ..., -4.4265, -4.8071, -4.8358],\n",
       "         [-4.4580, -5.0614, -4.7327,  ..., -5.3901, -4.4737, -4.8658],\n",
       "         ...,\n",
       "         [-4.4583, -4.6800, -5.0594,  ..., -4.8702, -4.5471, -4.8957],\n",
       "         [-4.8058, -4.8116, -5.2175,  ..., -4.7114, -5.1417, -4.8483],\n",
       "         [-5.3486, -5.1599, -4.5020,  ..., -4.4507, -5.0655, -4.8823]]])"
      ]
     },
     "execution_count": 28,
     "metadata": {},
     "output_type": "execute_result"
    }
   ],
   "source": [
    "input.log_softmax(2)"
   ]
  },
  {
   "cell_type": "code",
   "execution_count": null,
   "metadata": {},
   "outputs": [],
   "source": []
  }
 ],
 "metadata": {
  "kernelspec": {
   "display_name": "env_tandat17z",
   "language": "python",
   "name": "python3"
  },
  "language_info": {
   "codemirror_mode": {
    "name": "ipython",
    "version": 3
   },
   "file_extension": ".py",
   "mimetype": "text/x-python",
   "name": "python",
   "nbconvert_exporter": "python",
   "pygments_lexer": "ipython3",
   "version": "3.12.3"
  }
 },
 "nbformat": 4,
 "nbformat_minor": 2
}
