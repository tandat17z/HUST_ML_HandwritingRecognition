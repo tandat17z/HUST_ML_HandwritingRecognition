{
 "cells": [
  {
   "cell_type": "code",
   "execution_count": 1,
   "metadata": {},
   "outputs": [
    {
     "name": "stderr",
     "output_type": "stream",
     "text": [
      "c:\\Users\\tandat17z\\anaconda3\\envs\\env_tandat17z\\Lib\\site-packages\\tqdm\\auto.py:21: TqdmWarning: IProgress not found. Please update jupyter and ipywidgets. See https://ipywidgets.readthedocs.io/en/stable/user_install.html\n",
      "  from .autonotebook import tqdm as notebook_tqdm\n"
     ]
    }
   ],
   "source": [
    "import os\n",
    "import argparse\n",
    "import torch\n",
    "import random\n",
    "import numpy as np\n",
    "from tqdm import tqdm\n",
    "from torch.utils.data import random_split\n",
    "\n",
    "from model.crnn import CRNN\n",
    "from model.MyCrnn import MyCRNN\n",
    "from dataset import DatasetImg\n",
    "from utils.utils import *\n",
    "from utils.StrLabelConverter import *\n",
    "from trainer import *"
   ]
  },
  {
   "cell_type": "code",
   "execution_count": 2,
   "metadata": {},
   "outputs": [],
   "source": [
    "pretrained = 'pretrain/model_1.pth.tar'"
   ]
  },
  {
   "cell_type": "code",
   "execution_count": 3,
   "metadata": {},
   "outputs": [
    {
     "name": "stdout",
     "output_type": "stream",
     "text": [
      "---------------------------------------------------\n",
      "Using cpu device\n",
      "---------------------------------------------------\n"
     ]
    },
    {
     "data": {
      "text/plain": [
       "155"
      ]
     },
     "execution_count": 3,
     "metadata": {},
     "output_type": "execute_result"
    }
   ],
   "source": [
    "device = ( \"cuda\" if torch.cuda.is_available() else \"cpu\")\n",
    "print(\"---------------------------------------------------\")\n",
    "print(f\"Using {device} device\")\n",
    "print(\"---------------------------------------------------\")\n",
    "\n",
    "dataset = DatasetImg('data/data1/img', 'data/data1/label')\n",
    "\n",
    "with open(os.path.join('data/mychar.txt'), 'r', encoding='utf-8') as f:\n",
    "    alphabet = f.read().rstrip()\n",
    "# print(alphabet)\n",
    "converter = StrLabelConverter(alphabet, ignore_case=False)\n",
    "converter.numClass"
   ]
  },
  {
   "cell_type": "code",
   "execution_count": 4,
   "metadata": {},
   "outputs": [
    {
     "name": "stdout",
     "output_type": "stream",
     "text": [
      "use MyCrnn\n"
     ]
    }
   ],
   "source": [
    "# --------------------- Create Model ---------------------------------\n",
    "model = MyCRNN(converter.numClass, 125, 0.1).to(device)\n",
    "# print(f\"Model structure: {model}\\n\\n\")\n",
    "# for name, param in model.named_parameters():\n",
    "#     print(f\"Layer: {name} | Size: {param.size()} | Values : {param[:2]} \\n\")\n",
    "\n",
    "criterion = torch.nn.CTCLoss().to(device)\n",
    "optimizer = torch.optim.Adam(model.parameters(), lr=0.001)\n",
    "\n",
    "epoch = 0\n",
    "if pretrained:\n",
    "    checkpoint_path = pretrained\n",
    "    checkpoint = torch.load(checkpoint_path, map_location=torch.device(device))\n",
    "    model.load_state_dict(checkpoint['model_state_dict'])\n",
    "    optimizer.load_state_dict(checkpoint['optimizer_state_dict'])\n",
    "    epoch = checkpoint['epoch']"
   ]
  },
  {
   "cell_type": "code",
   "execution_count": 5,
   "metadata": {},
   "outputs": [],
   "source": [
    "from tester import Tester\n",
    "\n",
    "tester = Tester(model, optimizer, converter)"
   ]
  },
  {
   "cell_type": "code",
   "execution_count": 6,
   "metadata": {},
   "outputs": [
    {
     "name": "stdout",
     "output_type": "stream",
     "text": [
      "õOWCOõWổCWCVWỗWõâVWCV\"WõVÝõVCõCWVWSƯV/T/õỗWâVễWVễõTCWVCWVOVCWV/V4TCVCyVCWVCVWOCVõCWVTVCỗậS\n"
     ]
    },
    {
     "data": {
      "image/png": "[encoded data removed]",
      "text/plain": [
       "<PIL.PngImagePlugin.PngImageFile image mode=RGBA size=515x51>"
      ]
     },
     "execution_count": 6,
     "metadata": {},
     "output_type": "execute_result"
    }
   ],
   "source": [
    "from PIL import Image\n",
    "\n",
    "imgpath = 'data/data1/img/20140603_0003_BCCTC_tg_0_1.png'\n",
    "img = Image.open(imgpath)\n",
    "print(tester.predict(imgpath))\n",
    "img"
   ]
  }
 ],
 "metadata": {
  "kernelspec": {
   "display_name": "env_tandat17z",
   "language": "python",
   "name": "python3"
  },
  "language_info": {
   "codemirror_mode": {
    "name": "ipython",
    "version": 3
   },
   "file_extension": ".py",
   "mimetype": "text/x-python",
   "name": "python",
   "nbconvert_exporter": "python",
   "pygments_lexer": "ipython3",
   "version": "3.12.3"
  }
 },
 "nbformat": 4,
 "nbformat_minor": 2
}
