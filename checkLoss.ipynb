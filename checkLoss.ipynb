{
 "cells": [
  {
   "cell_type": "code",
   "execution_count": 2,
   "metadata": {},
   "outputs": [],
   "source": [
    "from model.crnn import CRNN\n",
    "from dataset import DatasetImg\n",
    "from utils.utils import strLabelConverter\n",
    "\n",
    "import os\n",
    "import torch\n",
    "from torch.utils.data import random_split"
   ]
  },
  {
   "cell_type": "code",
   "execution_count": 7,
   "metadata": {},
   "outputs": [],
   "source": [
    "dataset = DatasetImg('data' + '/img', 'data' + '/label', 512, 32)\n",
    "train_dataset, test_dataset = random_split(dataset, [0.8, 0.2])\n",
    "\n",
    "train_dataloader = torch.utils.data.DataLoader(\n",
    "            train_dataset,\n",
    "            batch_size=1,\n",
    "            shuffle=True)\n",
    "test_dataloader = torch.utils.data.DataLoader(\n",
    "            test_dataset,\n",
    "            batch_size=64,\n",
    "            shuffle=True)\n",
    "\n",
    "with open(os.path.join('data/char.txt'), 'r', encoding='utf-8') as f:\n",
    "    alphabet = f.read().rstrip()\n",
    "# print(alphabet)\n",
    "converter = strLabelConverter(alphabet, ignore_case=True)\n",
    "\n",
    "# --------------------- Create Model ---------------------------------\n",
    "model = CRNN(converter.numClass, 100, 0.1).to('cpu')\n",
    "# print(f\"Model structure: {model}\\n\\n\")\n",
    "# for name, param in model.named_parameters():\n",
    "#     print(f\"Layer: {name} | Size: {param.size()} | Values : {param[:2]} \\n\")\n",
    "\n",
    "criterion = torch.nn.CTCLoss().to('cpu')\n",
    "optimizer = torch.optim.Adam(model.parameters(), lr=0.001)"
   ]
  },
  {
   "cell_type": "code",
   "execution_count": 10,
   "metadata": {},
   "outputs": [
    {
     "data": {
      "text/plain": [
       "tensor(6.5159, grad_fn=<MeanBackward0>)"
      ]
     },
     "execution_count": 10,
     "metadata": {},
     "output_type": "execute_result"
    }
   ],
   "source": [
    "imgs, labels = next(iter(train_dataloader))\n",
    "imgs = imgs.to('cpu')\n",
    "\n",
    "targets, target_lenghts = converter.encode(labels)\n",
    "targets = targets.to('cpu')\n",
    "target_lenghts = target_lenghts.to('cpu')\n",
    "\n",
    "preds_ = model(imgs)\n",
    "\n",
    "b, l, c = preds_.shape\n",
    "preds = preds_.permute(1, 0, 2).to('cpu')\n",
    "preds_lengths = torch.full(size=(b,), fill_value=l, dtype=torch.long).to('cpu')\n",
    "loss = criterion(preds.log_softmax(2), targets, preds_lengths, target_lenghts) # ctc_loss chỉ dùng với cpu, dùng với gpu phức tạp hơn thì phải\n",
    "loss  "
   ]
  },
  {
   "cell_type": "code",
   "execution_count": 47,
   "metadata": {},
   "outputs": [
    {
     "data": {
      "text/plain": [
       "(tensor([ 41,  34,  91, 122,  36,   1,  85,  91, 125,  30,   1,  43,  35,  65,\n",
       "          47,   1,  35,  28,  36,   1,  43,  35,  95,  41,   1,  30,  90,  40,\n",
       "           1,  14,   1,  41,  34,  64,  52,  11,   1,  30,  93,   1,  46,  48,\n",
       "          94,  47,   1,  47,  45,  91,  28,   1,  49,  64,   1,  30,  35,  36,\n",
       "         108,  48,   1,  31, 117,  41,   1,  40, 120,  47,  13,   1,  30,  48,\n",
       "         120,  30,   1,  46, 116,  41,  34,   1,  38,  69,  42],\n",
       "        dtype=torch.int32),\n",
       " tensor([81], dtype=torch.int32))"
      ]
     },
     "execution_count": 47,
     "metadata": {},
     "output_type": "execute_result"
    }
   ],
   "source": [
    "enc, len = converter.encode(labels)\n",
    "enc, len"
   ]
  },
  {
   "cell_type": "code",
   "execution_count": 22,
   "metadata": {},
   "outputs": [],
   "source": [
    "import numpy as np\n",
    "torch.set_printoptions(threshold=float('inf'))\n",
    "np.set_printoptions(threshold=float('inf'))\n"
   ]
  },
  {
   "cell_type": "code",
   "execution_count": 51,
   "metadata": {},
   "outputs": [
    {
     "data": {
      "text/plain": [
       "torch.Size([128, 1, 145])"
      ]
     },
     "execution_count": 51,
     "metadata": {},
     "output_type": "execute_result"
    }
   ],
   "source": [
    "\n",
    "input = torch.zeros(128, 1, 145) \n",
    "for i, _ in enumerate(enc):\n",
    "    input[i, 0, _.data] = 100\n",
    "input.shape"
   ]
  },
  {
   "cell_type": "code",
   "execution_count": 54,
   "metadata": {},
   "outputs": [
    {
     "data": {
      "text/plain": [
       "tensor(2.8399)"
      ]
     },
     "execution_count": 54,
     "metadata": {},
     "output_type": "execute_result"
    }
   ],
   "source": [
    "criterion(input.log_softmax(2), \n",
    "          enc, \n",
    "          torch.asarray([128]),\n",
    "          len)"
   ]
  },
  {
   "cell_type": "code",
   "execution_count": 15,
   "metadata": {},
   "outputs": [
    {
     "data": {
      "text/plain": [
       "\"ãōd0ãðíèðèv1đù(ð òàùvũgèggnöösugzröìð:ö:gðơðmàeeô/-è-èqè:jjvhh((àààwm|ha_+íùhz\\\\ìđăiđ'}g-gcoùùùs\\\\%đ0wwáàà:àööù%ðleðg/ðpa8ðððeöeèj\""
      ]
     },
     "execution_count": 15,
     "metadata": {},
     "output_type": "execute_result"
    }
   ],
   "source": [
    "_, preds_id  = preds_.max(2)\n",
    "converter.decode(preds_id.view(-1), preds_lengths, raw=True)\n",
    "            "
   ]
  },
  {
   "cell_type": "code",
   "execution_count": 75,
   "metadata": {},
   "outputs": [],
   "source": [
    "import Levenshtein\n",
    "\n",
    "def cer_loss_one_image(sim_pred, label):\n",
    "    loss = Levenshtein.distance(sim_pred, label) * 1.0 \n",
    "    return loss\n",
    "\n",
    "def cer_loss(sim_preds, labels):\n",
    "    losses = []\n",
    "    print(sim_preds.__len__())\n",
    "    for i in range(sim_preds.__len__()):\n",
    "        pred = sim_preds[i]\n",
    "        text = labels[i]\n",
    "\n",
    "        loss = cer_loss_one_image(pred, text)\n",
    "        losses.append(loss)\n",
    "    return losses"
   ]
  },
  {
   "cell_type": "code",
   "execution_count": 78,
   "metadata": {},
   "outputs": [
    {
     "name": "stdout",
     "output_type": "stream",
     "text": [
      "1\n"
     ]
    },
    {
     "data": {
      "text/plain": [
       "[2.0]"
      ]
     },
     "execution_count": 78,
     "metadata": {},
     "output_type": "execute_result"
    }
   ],
   "source": [
    "cer_loss(['hello0',], ['helllo',])"
   ]
  },
  {
   "cell_type": "code",
   "execution_count": null,
   "metadata": {},
   "outputs": [],
   "source": []
  }
 ],
 "metadata": {
  "kernelspec": {
   "display_name": "env_tandat17z",
   "language": "python",
   "name": "python3"
  },
  "language_info": {
   "codemirror_mode": {
    "name": "ipython",
    "version": 3
   },
   "file_extension": ".py",
   "mimetype": "text/x-python",
   "name": "python",
   "nbconvert_exporter": "python",
   "pygments_lexer": "ipython3",
   "version": "3.12.3"
  }
 },
 "nbformat": 4,
 "nbformat_minor": 2
}
