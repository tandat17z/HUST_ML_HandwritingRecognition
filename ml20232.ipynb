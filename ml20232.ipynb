{
 "cells": [
  {
   "cell_type": "code",
   "execution_count": 1,
   "id": "d64b74fd",
   "metadata": {
    "_cell_guid": "b1076dfc-b9ad-4769-8c92-a6c4dae69d19",
    "_uuid": "8f2839f25d086af736a60e9eeb907d3b93b6e0e5",
    "execution": {
     "iopub.execute_input": "2024-05-13T00:35:44.024180Z",
     "iopub.status.busy": "2024-05-13T00:35:44.022990Z",
     "iopub.status.idle": "2024-05-13T00:36:05.294367Z",
     "shell.execute_reply": "2024-05-13T00:36:05.292928Z"
    },
    "papermill": {
     "duration": 21.278275,
     "end_time": "2024-05-13T00:36:05.297130",
     "exception": false,
     "start_time": "2024-05-13T00:35:44.018855",
     "status": "completed"
    },
    "tags": []
   },
   "outputs": [
    {
     "name": "stdout",
     "output_type": "stream",
     "text": [
      "Cloning into 'HUST_ML_HandwritingRecognition'...\r\n",
      "fatal: unable to access 'https://github.com/tandat17z/HUST_ML_HandwritingRecognition.git/': Could not resolve host: github.com\r\n"
     ]
    }
   ],
   "source": [
    "!git clone https://github.com/tandat17z/HUST_ML_HandwritingRecognition.git"
   ]
  },
  {
   "cell_type": "code",
   "execution_count": 2,
   "id": "fe217681",
   "metadata": {
    "execution": {
     "iopub.execute_input": "2024-05-13T00:36:05.303649Z",
     "iopub.status.busy": "2024-05-13T00:36:05.303252Z",
     "iopub.status.idle": "2024-05-13T00:36:26.428736Z",
     "shell.execute_reply": "2024-05-13T00:36:26.427634Z"
    },
    "papermill": {
     "duration": 21.131984,
     "end_time": "2024-05-13T00:36:26.431610",
     "exception": false,
     "start_time": "2024-05-13T00:36:05.299626",
     "status": "completed"
    },
    "tags": []
   },
   "outputs": [
    {
     "name": "stdout",
     "output_type": "stream",
     "text": [
      "Cloning into 'HUST_ML_HandwritingRecognition'...\r\n",
      "fatal: unable to access 'https://github.com/tandat17z/HUST_ML_HandwritingRecognition.git/': Could not resolve host: github.com\r\n"
     ]
    }
   ],
   "source": [
    "!git clone https://github.com/tandat17z/HUST_ML_HandwritingRecognition.git"
   ]
  }
 ],
 "metadata": {
  "kaggle": {
   "accelerator": "none",
   "dataSources": [],
   "dockerImageVersionId": 30698,
   "isGpuEnabled": false,
   "isInternetEnabled": false,
   "language": "python",
   "sourceType": "notebook"
  },
  "kernelspec": {
   "display_name": "Python 3",
   "language": "python",
   "name": "python3"
  },
  "language_info": {
   "codemirror_mode": {
    "name": "ipython",
    "version": 3
   },
   "file_extension": ".py",
   "mimetype": "text/x-python",
   "name": "python",
   "nbconvert_exporter": "python",
   "pygments_lexer": "ipython3",
   "version": "3.10.13"
  },
  "papermill": {
   "default_parameters": {},
   "duration": 45.74543,
   "end_time": "2024-05-13T00:36:26.853708",
   "environment_variables": {},
   "exception": null,
   "input_path": "__notebook__.ipynb",
   "output_path": "__notebook__.ipynb",
   "parameters": {},
   "start_time": "2024-05-13T00:35:41.108278",
   "version": "2.5.0"
  }
 },
 "nbformat": 4,
 "nbformat_minor": 5
}
